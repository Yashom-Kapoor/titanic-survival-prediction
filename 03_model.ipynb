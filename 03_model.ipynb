{
 "cells": [
  {
   "cell_type": "code",
   "execution_count": 2,
   "id": "d7951ee0",
   "metadata": {},
   "outputs": [],
   "source": [
    "from sklearn.linear_model import LogisticRegression\n",
    "from sklearn.model_selection import train_test_split\n",
    "from sklearn.metrics import accuracy_score, roc_auc_score, confusion_matrix\n",
    "\n",
    "%store -r X_train X_test y_train"
   ]
  },
  {
   "cell_type": "code",
   "execution_count": 12,
   "id": "c26661c8",
   "metadata": {},
   "outputs": [
    {
     "name": "stdout",
     "output_type": "stream",
     "text": [
      "Accuracy: 0.8100558659217877\n",
      "ROC-AUC: 0.8828828828828829\n",
      "Confusion matrix:\n",
      " [[90 15]\n",
      " [19 55]]\n"
     ]
    }
   ],
   "source": [
    "X_tr, X_val, y_tr, y_val = train_test_split(X_train, y_train, test_size=0.2, random_state=42)\n",
    "\n",
    "model = LogisticRegression(max_iter=350)\n",
    "model.fit(X_tr, y_tr)\n",
    "\n",
    "preds = model.predict(X_val)\n",
    "proba = model.predict_proba(X_val)[:,1]\n",
    "print(\"Accuracy:\", accuracy_score(y_val, preds))\n",
    "print(\"ROC-AUC:\", roc_auc_score(y_val, proba))\n",
    "print(\"Confusion matrix:\\n\", confusion_matrix(y_val, preds))"
   ]
  }
 ],
 "metadata": {
  "kernelspec": {
   "display_name": "titanic",
   "language": "python",
   "name": "python3"
  },
  "language_info": {
   "codemirror_mode": {
    "name": "ipython",
    "version": 3
   },
   "file_extension": ".py",
   "mimetype": "text/x-python",
   "name": "python",
   "nbconvert_exporter": "python",
   "pygments_lexer": "ipython3",
   "version": "3.13.3"
  }
 },
 "nbformat": 4,
 "nbformat_minor": 5
}
